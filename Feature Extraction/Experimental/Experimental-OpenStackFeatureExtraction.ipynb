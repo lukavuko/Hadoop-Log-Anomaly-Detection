{
 "cells": [
  {
   "cell_type": "markdown",
   "source": [
    "# Squential Event Feature Extraction\r\n",
    "\r\n",
    "### OpenStack\r\n",
    "OpenStack is a free, open standard cloud computing platform. It is mostly deployed as infrastructure-as-a-service in both public and private clouds where virtual servers and other resources are made available to users.\r\n",
    "\r\n",
    "Log Structure | Description\r\n",
    "--- | ---\r\n",
    "nova-\\___.log | cloud controller\r\n",
    "yy-MM-dd_hh-mm-ss | logging date and time\r\n",
    "yy-MM-dd hh:mm:ss.ms | logging date and time from the start of logging\r\n",
    "_ _ _ _ _ | a 5 digit code (not sure exactly what it represents)\r\n",
    "INFO/WARN/DEBUG/ERROR/etc. | type of the logging event and priority\r\n",
    "nova.\\__.\\__.\\__ | general source of logging event\r\n",
    "\\[req -\\___ -\\___ -\\___ -\\___ -\\___ | virtual machine instance\r\n",
    "\\___ \\___ - - -] | some IDs\r\n",
    "\\__ . __ . __ . __ | IP address\r\n",
    "\"\\<query / message\\>\" | log message or api query\r\n",
    "\r\n",
    "\r\n",
    "Example:\r\n",
    "- `nova-api.log.1.2017-05-16_13:53:08 2017-05-16 00:00:00.272 25746 INFO nova.osapi_compute.wsgi.server [req-9bc36dd9-91c5-4314-898a-47625eb93b09 113d3a99c3da401fbd62cc2caa5b96d2 54fadb412c4e40cdbaed9335e4c35a9e - - -] 10.11.10.1 \"GET /v2/54fadb412c4e40cdbaed9335e4c35a9e/servers/detail HTTP/1.1\" status: 200 len: 1893 time: 0.2577181`"
   ],
   "metadata": {}
  },
  {
   "cell_type": "markdown",
   "source": [
    "### Import Libraries"
   ],
   "metadata": {}
  },
  {
   "cell_type": "code",
   "execution_count": 1,
   "source": [
    "# Parsing and wrangling\r\n",
    "import pandas as pd\r\n",
    "import numpy as np\r\n",
    "import regex as re\r\n",
    "\r\n",
    "# misc\r\n",
    "from datetime import datetime as dt\r\n",
    "import itertools"
   ],
   "outputs": [],
   "metadata": {}
  },
  {
   "cell_type": "markdown",
   "source": [
    "## HDFS Feature Engineering\n",
    "\n",
    "In the future, incorporating the time between sequential log events will be considered as it may be a useful feature for improving anomaly detection."
   ],
   "metadata": {}
  },
  {
   "cell_type": "code",
   "execution_count": 7,
   "source": [
    "## import raw log data\r\n",
    "\r\n",
    "# full set\r\n",
    "#raw = pd.read_csv('All-Data/HDFS/Raw/HDFS.log', header=None, sep='\\n')[0]\r\n",
    "\r\n",
    "# sample set\r\n",
    "raw = pd.read_csv('../All-Data/HDFS/Raw/HDFS_2k.log', header=None, sep='\\n')[0]\r\n",
    "\r\n",
    "raw.head()"
   ],
   "outputs": [
    {
     "output_type": "execute_result",
     "data": {
      "text/plain": [
       "0    081109 203615 148 INFO dfs.DataNode$PacketResp...\n",
       "1    081109 203807 222 INFO dfs.DataNode$PacketResp...\n",
       "2    081109 204005 35 INFO dfs.FSNamesystem: BLOCK*...\n",
       "3    081109 204015 308 INFO dfs.DataNode$PacketResp...\n",
       "4    081109 204106 329 INFO dfs.DataNode$PacketResp...\n",
       "Name: 0, dtype: object"
      ]
     },
     "metadata": {},
     "execution_count": 7
    }
   ],
   "metadata": {}
  },
  {
   "cell_type": "markdown",
   "source": [
    "# OpenStack Feature Engineering\n",
    "\n",
    "In the future, incorporating the time between sequential log events will be considered as it may be a useful feature for improving anomaly detection."
   ],
   "metadata": {}
  },
  {
   "cell_type": "code",
   "execution_count": 59,
   "source": [
    "## import anomaly labels\r\n",
    "\r\n",
    "# since this dataset has only 4 anomalies, we will manually import them\r\n",
    "# the non anomalous labels will be appended / parsed directly from the logs\r\n",
    "# 1 = anomaly / 0 = normal\r\n",
    "\r\n",
    "vm_labels = pd.DataFrame({'VM_id': ['544fd51c-4edc-4780-baae-ba1d80a0acfc',\r\n",
    "                                 'ae651dff-c7ad-43d6-ac96-bbcd820ccca8',\r\n",
    "                                 'a445709b-6ad0-40ec-8860-bec60b6ca0c2',\r\n",
    "                                 '1643649d-2f42-4303-bfcd-7798baec19f9'],\r\n",
    "                      'label': [1, 1, 1, 1]})\r\n",
    "\r\n",
    "length = len(vm_labels)\r\n",
    "anomalies = len(vm_labels[vm_labels.label == 1])\r\n",
    "\r\n",
    "print('Length labels: ', length)\r\n",
    "print('Anomalies: ', anomalies)\r\n",
    "print('% Anomalous: ', round(anomalies/length*100, 2),'%')\r\n",
    "\r\n",
    "vm_labels.head()"
   ],
   "outputs": [
    {
     "output_type": "stream",
     "name": "stdout",
     "text": [
      "Length labels:  4\n",
      "Anomalies:  4\n",
      "% Anomalous:  100.0 %\n"
     ]
    },
    {
     "output_type": "execute_result",
     "data": {
      "text/plain": [
       "                                  VM_id  label\n",
       "0  544fd51c-4edc-4780-baae-ba1d80a0acfc      1\n",
       "1  ae651dff-c7ad-43d6-ac96-bbcd820ccca8      1\n",
       "2  a445709b-6ad0-40ec-8860-bec60b6ca0c2      1\n",
       "3  1643649d-2f42-4303-bfcd-7798baec19f9      1"
      ],
      "text/html": [
       "<div>\n",
       "<style scoped>\n",
       "    .dataframe tbody tr th:only-of-type {\n",
       "        vertical-align: middle;\n",
       "    }\n",
       "\n",
       "    .dataframe tbody tr th {\n",
       "        vertical-align: top;\n",
       "    }\n",
       "\n",
       "    .dataframe thead th {\n",
       "        text-align: right;\n",
       "    }\n",
       "</style>\n",
       "<table border=\"1\" class=\"dataframe\">\n",
       "  <thead>\n",
       "    <tr style=\"text-align: right;\">\n",
       "      <th></th>\n",
       "      <th>VM_id</th>\n",
       "      <th>label</th>\n",
       "    </tr>\n",
       "  </thead>\n",
       "  <tbody>\n",
       "    <tr>\n",
       "      <th>0</th>\n",
       "      <td>544fd51c-4edc-4780-baae-ba1d80a0acfc</td>\n",
       "      <td>1</td>\n",
       "    </tr>\n",
       "    <tr>\n",
       "      <th>1</th>\n",
       "      <td>ae651dff-c7ad-43d6-ac96-bbcd820ccca8</td>\n",
       "      <td>1</td>\n",
       "    </tr>\n",
       "    <tr>\n",
       "      <th>2</th>\n",
       "      <td>a445709b-6ad0-40ec-8860-bec60b6ca0c2</td>\n",
       "      <td>1</td>\n",
       "    </tr>\n",
       "    <tr>\n",
       "      <th>3</th>\n",
       "      <td>1643649d-2f42-4303-bfcd-7798baec19f9</td>\n",
       "      <td>1</td>\n",
       "    </tr>\n",
       "  </tbody>\n",
       "</table>\n",
       "</div>"
      ]
     },
     "metadata": {},
     "execution_count": 59
    }
   ],
   "metadata": {}
  },
  {
   "cell_type": "code",
   "execution_count": 60,
   "source": [
    "abnormal_log = pd.read_csv('../All-Data/OpenStack/openstack_abnormal.log', header=None, sep='\\n')[0]\r\n",
    "normal_log1 = pd.read_csv('../All-Data/OpenStack/openstack_normal1.log', header=None, sep='\\n')[0]\r\n",
    "normal_log2 = pd.read_csv('../All-Data/OpenStack/openstack_normal2.log', header=None, sep='\\n')[0]\r\n",
    "\r\n",
    "# bind\r\n",
    "raw = abnormal_log.append(normal_log1.append(normal_log2))\r\n",
    "\r\n",
    "# check lengths add up\r\n",
    "print(len(raw) == len(abnormal_log) + len(normal_log1) + len(normal_log2))\r\n",
    "print('Events:', len(raw))"
   ],
   "outputs": [
    {
     "output_type": "stream",
     "name": "stdout",
     "text": [
      "True\n",
      "Events: 207820\n"
     ]
    }
   ],
   "metadata": {}
  },
  {
   "cell_type": "code",
   "execution_count": 79,
   "source": [
    "## parse for VM IDs\r\n",
    "VMs_in_order = raw.str.findall(r'(?<=instance: )[\\da-z-]+') # [a-zA-Z\\d]{8}-.{4}-.{4}-.{4}-[a-zA-Z\\d]{12}\r\n",
    "\r\n",
    "print('Events with >1 VM IDs: ', len(VMs_in_order[VMs_in_order.str.len() > 1]))\r\n",
    "print('Events with 1 VM ID:  ', len(VMs_in_order[VMs_in_order.str.len() == 1]))\r\n",
    "print('Events with no VM ID: ', len(VMs_in_order[VMs_in_order.str.len() == 0]))\r\n",
    "print()\r\n",
    "\r\n",
    "# for events with 0 VM Ids, we will attribute them a `gen_event`\r\n",
    "# label to indicate it is a general server event\r\n",
    "import uuid\r\n",
    "unique_ids_required = len(VMs_in_order[VMs_in_order.str.len() == 0]) \r\n",
    "uuids = []\r\n",
    "for i in range(unique_ids_required):\r\n",
    "    uuids += [str(uuid.uuid4())+'-gen_event']\r\n",
    "VMs_in_order[VMs_in_order.str.len() == 0] = uuids\r\n",
    "\r\n",
    "# for events with 1 VM Id, unlist them\r\n",
    "VMs_in_order[VMs_in_order.str.len() == 1] = VMs_in_order[VMs_in_order.str.len() == 1].apply(lambda x: x[0])\r\n",
    "\r\n",
    "print('Were all events captured?  : ', len(VMs_in_order) == len(raw))\r\n",
    "print()\r\n",
    "\r\n",
    "VMs_in_order.head()"
   ],
   "outputs": [
    {
     "output_type": "stream",
     "name": "stdout",
     "text": [
      "Events with >1 VM IDs:  0\n",
      "Events with 1 VM ID:   51553\n",
      "Events with no VM ID:  156267\n",
      "\n",
      "Were all events captured?  :  True\n",
      "\n"
     ]
    },
    {
     "output_type": "execute_result",
     "data": {
      "text/plain": [
       "0    b41ca736-c9ce-44be-812a-d4ebf8bb68f1-gen_event\n",
       "1    34a30c36-5da4-472d-b7b3-f98584043d56-gen_event\n",
       "2              3edec1e4-9678-4a3a-a21b-a145a4ee5e61\n",
       "3    4a4a7236-78ba-4dda-b711-a0640181335e-gen_event\n",
       "4              2b590f10-49fd-4ec9-ae41-19596c2f4b25\n",
       "Name: 0, dtype: object"
      ]
     },
     "metadata": {},
     "execution_count": 79
    }
   ],
   "metadata": {}
  },
  {
   "cell_type": "code",
   "execution_count": 80,
   "source": [
    "## extract raw messages after and including the priority status (INFO/WARN/...)\r\n",
    "full_msg = raw.str.extract(r'((?=[A-Z]{4}\\s).*)')[0]\r\n",
    "\r\n",
    "# extract and join key words without VM IDs\r\n",
    "half1 = full_msg.str.findall(r'\\A(.+)(?=\\s\\[)') # first half of message\r\n",
    "half2 = full_msg.str.findall(r'[^\\]]+$') # second half of message\r\n",
    "print('First search complete.')\r\n",
    "\r\n",
    "# combine\r\n",
    "df = pd.DataFrame({'half1': half1, 'half2': half2})\r\n",
    "full = df.apply(lambda x: \"\".join(x[0] + x[1]), axis = 1)\r\n",
    "print('Combined message halfs.')\r\n",
    "    \r\n",
    "# vectorized function to join general key words from list to str\r\n",
    "toSentence = np.vectorize(lambda x: \" \".join(x))\r\n",
    "\r\n",
    "# filter again but strictly for words\r\n",
    "sentences = pd.Series(toSentence(full.str.findall(r'(\\b[A-Za-z_]+\\b)')))\r\n",
    "print('Second search complete.')\r\n",
    "\r\n",
    "print('Messages extracted: ', len(sentences))\r\n",
    "\r\n",
    "# this needs to be a relatively small number to work best\r\n",
    "# it's a bit too big right now\r\n",
    "print('Unique messages: ', len(pd.unique(sentences)))"
   ],
   "outputs": [
    {
     "output_type": "stream",
     "name": "stdout",
     "text": [
      "First search complete.\n",
      "Combined message halfs.\n",
      "Second search complete.\n",
      "Messages extracted:  207820\n",
      "Unique messages:  2174\n"
     ]
    }
   ],
   "metadata": {}
  },
  {
   "cell_type": "code",
   "execution_count": 81,
   "source": [
    "from gensim.models import Word2Vec\r\n",
    "import nltk\r\n",
    "import matplotlib.pyplot as plt\r\n",
    "from matplotlib.pyplot import figure\r\n",
    "\r\n",
    "from sklearn import cluster, metrics\r\n",
    "from sklearn.cluster import KMeans, AgglomerativeClustering\r\n",
    "from sklearn.decomposition import PCA\r\n",
    "import seaborn as sns; sns.set()"
   ],
   "outputs": [],
   "metadata": {}
  },
  {
   "cell_type": "code",
   "execution_count": 67,
   "source": [
    "## vectorizing sentences\r\n",
    "\r\n",
    "# split sentences into lists of words\r\n",
    "sentences_split = list(sentences.apply(lambda x: x.split()))\r\n",
    "model = Word2Vec(sentences_split, min_count = 1)\r\n",
    "\r\n",
    "# function to vectorize each sentences\r\n",
    "def vectorizer(sent, model):\r\n",
    "    vec = model.wv[sent[0]]\r\n",
    "    for w in range(1, len(sent)):\r\n",
    "        vec = np.add(vec, model.wv[sent[w]])\r\n",
    "    return np.asarray(vec) / len(sent)\r\n",
    "\r\n",
    "l = []\r\n",
    "\r\n",
    "# vectorize sentences\r\n",
    "for sent in sentences_split:\r\n",
    "    l.append(vectorizer(sent, model))\r\n",
    "\r\n",
    "X = np.array(l)"
   ],
   "outputs": [],
   "metadata": {}
  },
  {
   "cell_type": "code",
   "execution_count": 68,
   "source": [
    "# PCA \r\n",
    "pca = PCA().fit(X)\r\n",
    "\r\n",
    "# cuulative explained variance\r\n",
    "plt.plot(np.cumsum(pca.explained_variance_))\r\n",
    "plt.show()\r\n",
    "\r\n",
    "# explained variance by component\r\n",
    "plt.plot(pca.explained_variance_ratio_[0:15])\r\n",
    "plt.show()\r\n",
    "\r\n",
    "# we'll keep the first 20 components then..."
   ],
   "outputs": [
    {
     "output_type": "display_data",
     "data": {
      "text/plain": [
       "<Figure size 432x288 with 1 Axes>"
      ],
      "image/png": "[encoded data removed]"
     },
     "metadata": {}
    },
    {
     "output_type": "display_data",
     "data": {
      "text/plain": [
       "<Figure size 432x288 with 1 Axes>"
      ],
      "image/png": "[encoded data removed]"
     },
     "metadata": {}
    }
   ],
   "metadata": {}
  },
  {
   "cell_type": "code",
   "execution_count": 69,
   "source": [
    "## clustering similar sentences together\r\n",
    "\r\n",
    "# PCA on first 20 components\r\n",
    "pca = PCA(n_components = 20).fit(X)\r\n",
    "coords = pca.transform(X)\r\n",
    "\r\n",
    "# k means\r\n",
    "inertia = []\r\n",
    "for c in range(7, 20):\r\n",
    "    inertia += [KMeans(n_clusters=c, random_state=1).fit(X).inertia_]\r\n",
    "\r\n",
    "plt.plot(inertia)\r\n",
    "plt.show()"
   ],
   "outputs": [
    {
     "output_type": "display_data",
     "data": {
      "text/plain": [
       "<Figure size 432x288 with 1 Axes>"
      ],
      "image/png": "[encoded data removed]"
     },
     "metadata": {}
    }
   ],
   "metadata": {}
  },
  {
   "cell_type": "code",
   "execution_count": 70,
   "source": [
    "# optimal clusters:\r\n",
    "otp_clust = 20\r\n",
    "\r\n",
    "kmeans = KMeans(n_clusters = otp_clust, random_state=1).fit(X)\r\n",
    "kmean_clusters = kmeans.fit_predict(coords)\r\n",
    "\r\n",
    "figure(figsize=(8, 8), dpi=100)\r\n",
    "plt.scatter(coords[:, 0], coords[:, 1], s = 14, c = kmean_clusters)\r\n",
    "plt.show()"
   ],
   "outputs": [
    {
     "output_type": "display_data",
     "data": {
      "text/plain": [
       "<Figure size 800x800 with 1 Axes>"
      ],
      "image/png": "[encoded data removed]"
     },
     "metadata": {}
    }
   ],
   "metadata": {}
  },
  {
   "cell_type": "code",
   "execution_count": 71,
   "source": [
    "figure(figsize=(8, 8), dpi=100)\r\n",
    "plt.scatter(coords[:, 1], coords[:, 2], s = 14, c = kmean_clusters)\r\n",
    "plt.show()"
   ],
   "outputs": [
    {
     "output_type": "display_data",
     "data": {
      "text/plain": [
       "<Figure size 800x800 with 1 Axes>"
      ],
      "image/png": "[encoded data removed]"
     },
     "metadata": {}
    }
   ],
   "metadata": {}
  },
  {
   "cell_type": "raw",
   "source": [
    "# do not use, dont know how to cluster all data yet\r\n",
    "import scipy.cluster.hierarchy as hcluster\r\n",
    "\r\n",
    "# clustering\r\n",
    "thresh = 1.5\r\n",
    "#hierarchy_clusters = hcluster.fclusterdata(X[::10], thresh, criterion=\"distance\")\r\n",
    "\r\n",
    "# plotting\r\n",
    "figure(figsize=(12, 12), dpi=250)\r\n",
    "plt.scatter(coords[::3, 0], coords[::3, 1], c = hierarchy_clusters, s = 14)\r\n",
    "title = \"Number of clusters: %d\" % (len(set(hierarchy_clusters)))\r\n",
    "plt.title(title)\r\n",
    "plt.show()"
   ],
   "metadata": {}
  },
  {
   "cell_type": "code",
   "execution_count": 82,
   "source": [
    "## convert general message structure to numeric\r\n",
    "\r\n",
    "coded_events = pd.Categorical(sentences).codes \r\n",
    "kmeans_coded_events = kmean_clusters\r\n",
    "#hierarchy_coded_events = hierarchy_clusters\r\n",
    "\r\n",
    "print('Unique All Coded: ', len(pd.Series(coded_events).unique()))\r\n",
    "print('Unique Kmeans Coded: ', len(pd.Series(kmeans_coded_events).unique()))\r\n",
    "#print('Unique Hierarchy Coded: ', len(pd.Series(hierarchy_coded_events).unique()))\r\n"
   ],
   "outputs": [
    {
     "output_type": "stream",
     "name": "stdout",
     "text": [
      "Unique All Coded:  2174\n",
      "Unique Kmeans Coded:  20\n"
     ]
    }
   ],
   "metadata": {}
  },
  {
   "cell_type": "code",
   "execution_count": 83,
   "source": [
    "## create final sequetial feature\r\n",
    "\r\n",
    "# VM ID and event codes frame\r\n",
    "events = pd.DataFrame({'vm_id': VMs_in_order,\r\n",
    "                       'all_cat': coded_events,\r\n",
    "                       'kmean_cat': kmeans_coded_events})\r\n",
    "\r\n",
    "# groupby by vm ID to create event sequences \r\n",
    "all_event_sequences = events.groupby('vm_id')['all_cat'].apply(list).reset_index(name='sequence')\r\n",
    "kmean_event_sequences = events.groupby('vm_id')['kmean_cat'].apply(list).reset_index(name='sequence')\r\n",
    "\r\n",
    "# label anomalies\r\n",
    "vectorized_anom_labeler = np.vectorize(lambda x: 1 if x in set(vm_labels.VM_id) else 0)\r\n",
    "\r\n",
    "all_event_sequences['anomaly'] = pd.Series(vectorized_anom_labeler(all_event_sequences.vm_id))\r\n",
    "kmean_event_sequences['anomaly'] = pd.Series(vectorized_anom_labeler(kmean_event_sequences.vm_id))\r\n",
    "\r\n",
    "# export the feature\r\n",
    "all_event_sequences.to_csv('../Data/OpenStack/all_event_sequences.csv', index = False, header = True)\r\n",
    "kmean_event_sequences.to_csv('../Data/OpenStack/kmean_event_sequences.csv', index = False, header = True)\r\n",
    "\r\n",
    "print(all_event_sequences.head())\r\n",
    "print(kmean_event_sequences.head())"
   ],
   "outputs": [
    {
     "output_type": "stream",
     "name": "stdout",
     "text": [
      "                                            vm_id sequence  anomaly\n",
      "0  00002b40-0521-4894-a34a-b5a27295edd6-gen_event   [1642]        0\n",
      "1  00006415-d514-4180-8dda-7a6d1783993d-gen_event   [1442]        0\n",
      "2  00007138-a0a8-4b45-b048-89604549e018-gen_event    [186]        0\n",
      "3  00009d44-60d2-4d74-b94f-c362e468b525-gen_event   [2143]        0\n",
      "4  00015c09-4872-468b-ab65-bbf11f45fd74-gen_event   [2139]        0\n",
      "                                            vm_id sequence  anomaly\n",
      "0  00002b40-0521-4894-a34a-b5a27295edd6-gen_event      [0]        0\n",
      "1  00006415-d514-4180-8dda-7a6d1783993d-gen_event      [7]        0\n",
      "2  00007138-a0a8-4b45-b048-89604549e018-gen_event     [12]        0\n",
      "3  00009d44-60d2-4d74-b94f-c362e468b525-gen_event      [6]        0\n",
      "4  00015c09-4872-468b-ab65-bbf11f45fd74-gen_event     [11]        0\n"
     ]
    }
   ],
   "metadata": {}
  },
  {
   "cell_type": "code",
   "execution_count": 84,
   "source": [
    "## perform a quick check\r\n",
    "\r\n",
    "# how many block IDs in the final dataset?\r\n",
    "target_row_count = len(VMs_in_order.unique())\r\n",
    "final_row_count = len(all_event_sequences)\r\n",
    "\r\n",
    "# how many anomalies in the final dataset?\r\n",
    "original_anomaly_count = 4\r\n",
    "final_anomaly_count = len(all_event_sequences[all_event_sequences.anomaly==1])\r\n",
    "\r\n",
    "\r\n",
    "# if the numbers don't match two things may be happening:\r\n",
    "# 1) something went wrong earlier\r\n",
    "# 2) you're using the sample dataset\r\n",
    "\r\n",
    "print(f'Total blocks present {final_row_count} of {target_row_count}')\r\n",
    "print(f'Total anomalies present {final_anomaly_count} of {original_anomaly_count}')"
   ],
   "outputs": [
    {
     "output_type": "stream",
     "name": "stdout",
     "text": [
      "Total blocks present 158336 of 158336\n",
      "Total anomalies present 4 of 4\n"
     ]
    }
   ],
   "metadata": {}
  },
  {
   "cell_type": "code",
   "execution_count": null,
   "source": [],
   "outputs": [],
   "metadata": {}
  }
 ],
 "metadata": {
  "kernelspec": {
   "display_name": "Python 3",
   "language": "python",
   "name": "python3"
  },
  "language_info": {
   "codemirror_mode": {
    "name": "ipython",
    "version": 3
   },
   "file_extension": ".py",
   "mimetype": "text/x-python",
   "name": "python",
   "nbconvert_exporter": "python",
   "pygments_lexer": "ipython3",
   "version": "3.8.3"
  }
 },
 "nbformat": 4,
 "nbformat_minor": 5
}